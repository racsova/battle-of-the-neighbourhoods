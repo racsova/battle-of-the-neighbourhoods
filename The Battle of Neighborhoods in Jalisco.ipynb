{
 "cells": [
  {
   "cell_type": "markdown",
   "metadata": {
    "collapsed": true
   },
   "source": [
    "# The Battle of Neighborhoods Zapopan vs Tlajomulco\n",
    "\n",
    "\n",
    "## 1. Introduction\n",
    "\n",
    "Jalisco in Mexico is one of its most important cities, mainly known by Tequila and Mariachis. This great city is located on the west side of Mexico and given its great location, big technology companies established branches that produce software and hardware not only for the LATAM region but for the world. Given this situation now this city is known as the LATAM Sillicon Valley. This condition for the city produce a lot of business and allows to increase the region's economy and nowadays Guadalajara is the third economy of Mexico.\n",
    "\n",
    "Reviewing the main neighborhoods in Guadalajara, the biggest one for ecomonics reasons is in Zapopan Municipality, but the growing of Tlajomulco Municipality is the the one that is growing at the fastest rate. this project pretends to analize information of both Municipalities in order to propose a business oportunity for the Tlajomulco Municipality.\n"
   ]
  },
  {
   "cell_type": "markdown",
   "metadata": {},
   "source": [
    "<img src = \"https://www.jalisco.gob.mx/sites/default/files/archivos-municipios/mapa_mex.png\" width=500>"
   ]
  },
  {
   "cell_type": "markdown",
   "metadata": {},
   "source": [
    "<img src = \"https://zonaguadalajara.com/zona-metropolitana-de-guadalajara/zonagdl_mapa/\" width=500>"
   ]
  },
  {
   "cell_type": "markdown",
   "metadata": {},
   "source": [
    "## 2. Business Problem\n",
    "\n",
    "\n",
    "As I mentioned in the previous section, Zapopan is the Municipality reference for Guadalajara city given its economic weight. For this project we use Zapopan geolocation data as benchmark and try to find a business opportunity. \n",
    "\n",
    "In concrete I will compare both Municipalities classified as B or B+ (meaning medium class, medium plus class), and Zapopan has a lot of sectors belonging to that classification and I will try to check in Tlajomulcos South (in this part of the city we have A, B and B+ neighborhoods) if there is missing a business that is a frecquent business for this kind of market. Initial field research shows that there is missing Sport Bars, but we will review the information in order to confirm if there is an opportunity to establish an Sport Bar in the south of the city in Tlajomulco Municipality."
   ]
  },
  {
   "cell_type": "markdown",
   "metadata": {},
   "source": [
    "<img src = \"https://images.sipse.com/HNi0o5JnA5TAbyK257WPi-EWgJw=/1654x1016/smart/imgs/022016/0602163e0b7916c.jpg\" width=500>"
   ]
  },
  {
   "cell_type": "markdown",
   "metadata": {},
   "source": [
    "## 3. Data\n",
    "\n",
    "The information that I will use in order to get the Post Code information is given by SEPOMEX (National Post Provider) and I will use only the information of Zapopan and Tlajomulco Municipality and I will analize the information as we review in previous week with Foursquare.\n",
    "\n",
    "### Glossary\n",
    "\n",
    "- Código Postal: Postal Code\n",
    "- Asentamiento: Neighborhood\n",
    "- Tipo de Asentamiento: Neighborhood Type\n",
    "- Municipio: Borough\n",
    "- Estado: State\n",
    "- Ciudad: City\n",
    "- Latitud: Latitude\n",
    "- Longitud: Longitude\n",
    "\n",
    "Following you will find the data that I will use for this project"
   ]
  },
  {
   "cell_type": "code",
   "execution_count": 2,
   "metadata": {},
   "outputs": [
    {
     "data": {
      "text/html": [
       "<div>\n",
       "<style scoped>\n",
       "    .dataframe tbody tr th:only-of-type {\n",
       "        vertical-align: middle;\n",
       "    }\n",
       "\n",
       "    .dataframe tbody tr th {\n",
       "        vertical-align: top;\n",
       "    }\n",
       "\n",
       "    .dataframe thead th {\n",
       "        text-align: right;\n",
       "    }\n",
       "</style>\n",
       "<table border=\"1\" class=\"dataframe\">\n",
       "  <thead>\n",
       "    <tr style=\"text-align: right;\">\n",
       "      <th></th>\n",
       "      <th>Código Postal</th>\n",
       "      <th>Asentamiento</th>\n",
       "      <th>Tipo de Asentamiento</th>\n",
       "      <th>Municipio</th>\n",
       "      <th>Estado</th>\n",
       "      <th>Ciudad</th>\n",
       "      <th>latitud</th>\n",
       "      <th>longitud</th>\n",
       "    </tr>\n",
       "  </thead>\n",
       "  <tbody>\n",
       "    <tr>\n",
       "      <th>0</th>\n",
       "      <td>45640</td>\n",
       "      <td>Rinconadas del Sol</td>\n",
       "      <td>Fraccionamiento</td>\n",
       "      <td>Tlajomulco de Zúñiga</td>\n",
       "      <td>Jalisco</td>\n",
       "      <td>Tlajomulco de Zúñiga</td>\n",
       "      <td>20.5008</td>\n",
       "      <td>-103.4942</td>\n",
       "    </tr>\n",
       "    <tr>\n",
       "      <th>1</th>\n",
       "      <td>45640</td>\n",
       "      <td>El Cortijo</td>\n",
       "      <td>Ejido</td>\n",
       "      <td>Tlajomulco de Zúñiga</td>\n",
       "      <td>Jalisco</td>\n",
       "      <td>Tlajomulco de Zúñiga</td>\n",
       "      <td>20.5008</td>\n",
       "      <td>-103.4942</td>\n",
       "    </tr>\n",
       "    <tr>\n",
       "      <th>2</th>\n",
       "      <td>45640</td>\n",
       "      <td>Vista Sur Residencial</td>\n",
       "      <td>Fraccionamiento</td>\n",
       "      <td>Tlajomulco de Zúñiga</td>\n",
       "      <td>Jalisco</td>\n",
       "      <td>Tlajomulco de Zúñiga</td>\n",
       "      <td>20.5008</td>\n",
       "      <td>-103.4942</td>\n",
       "    </tr>\n",
       "    <tr>\n",
       "      <th>3</th>\n",
       "      <td>45640</td>\n",
       "      <td>Valle de Santa Cruz</td>\n",
       "      <td>Colonia</td>\n",
       "      <td>Tlajomulco de Zúñiga</td>\n",
       "      <td>Jalisco</td>\n",
       "      <td>Tlajomulco de Zúñiga</td>\n",
       "      <td>20.5008</td>\n",
       "      <td>-103.4942</td>\n",
       "    </tr>\n",
       "    <tr>\n",
       "      <th>4</th>\n",
       "      <td>45640</td>\n",
       "      <td>Buenavista</td>\n",
       "      <td>Colonia</td>\n",
       "      <td>Tlajomulco de Zúñiga</td>\n",
       "      <td>Jalisco</td>\n",
       "      <td>Tlajomulco de Zúñiga</td>\n",
       "      <td>20.5008</td>\n",
       "      <td>-103.4942</td>\n",
       "    </tr>\n",
       "  </tbody>\n",
       "</table>\n",
       "</div>"
      ],
      "text/plain": [
       "   Código Postal           Asentamiento Tipo de Asentamiento  \\\n",
       "0          45640     Rinconadas del Sol      Fraccionamiento   \n",
       "1          45640             El Cortijo                Ejido   \n",
       "2          45640  Vista Sur Residencial      Fraccionamiento   \n",
       "3          45640    Valle de Santa Cruz              Colonia   \n",
       "4          45640             Buenavista              Colonia   \n",
       "\n",
       "              Municipio   Estado                Ciudad  latitud  longitud  \n",
       "0  Tlajomulco de Zúñiga  Jalisco  Tlajomulco de Zúñiga  20.5008 -103.4942  \n",
       "1  Tlajomulco de Zúñiga  Jalisco  Tlajomulco de Zúñiga  20.5008 -103.4942  \n",
       "2  Tlajomulco de Zúñiga  Jalisco  Tlajomulco de Zúñiga  20.5008 -103.4942  \n",
       "3  Tlajomulco de Zúñiga  Jalisco  Tlajomulco de Zúñiga  20.5008 -103.4942  \n",
       "4  Tlajomulco de Zúñiga  Jalisco  Tlajomulco de Zúñiga  20.5008 -103.4942  "
      ]
     },
     "execution_count": 2,
     "metadata": {},
     "output_type": "execute_result"
    }
   ],
   "source": [
    "\n",
    "import types\n",
    "import pandas as pd\n",
    "from botocore.client import Config\n",
    "import ibm_boto3\n",
    "\n",
    "def __iter__(self): return 0\n",
    "\n",
    "\n",
    "\n",
    "df_data_0 = pd.read_excel(body)\n",
    "df_data_0.head()\n"
   ]
  },
  {
   "cell_type": "markdown",
   "metadata": {},
   "source": [
    "I will put all the Boroughs in the correspondant Postal Code"
   ]
  },
  {
   "cell_type": "code",
   "execution_count": 5,
   "metadata": {},
   "outputs": [
    {
     "data": {
      "text/html": [
       "<div>\n",
       "<style scoped>\n",
       "    .dataframe tbody tr th:only-of-type {\n",
       "        vertical-align: middle;\n",
       "    }\n",
       "\n",
       "    .dataframe tbody tr th {\n",
       "        vertical-align: top;\n",
       "    }\n",
       "\n",
       "    .dataframe thead th {\n",
       "        text-align: right;\n",
       "    }\n",
       "</style>\n",
       "<table border=\"1\" class=\"dataframe\">\n",
       "  <thead>\n",
       "    <tr style=\"text-align: right;\">\n",
       "      <th></th>\n",
       "      <th>Código Postal</th>\n",
       "      <th>Municipio</th>\n",
       "      <th>Asentamiento</th>\n",
       "    </tr>\n",
       "  </thead>\n",
       "  <tbody>\n",
       "    <tr>\n",
       "      <th>0</th>\n",
       "      <td>45169</td>\n",
       "      <td>Zapopan</td>\n",
       "      <td>Lindavista,Villa Coral,Villa Magna,Villa Palmas</td>\n",
       "    </tr>\n",
       "    <tr>\n",
       "      <th>1</th>\n",
       "      <td>45116</td>\n",
       "      <td>Zapopan</td>\n",
       "      <td>Puerta Aqua,Puerta de Hierro,Royal Country,Pue...</td>\n",
       "    </tr>\n",
       "    <tr>\n",
       "      <th>2</th>\n",
       "      <td>45130</td>\n",
       "      <td>Zapopan</td>\n",
       "      <td>Altagracia,Arcos de Zapopan 1a. Sección,Arcos ...</td>\n",
       "    </tr>\n",
       "    <tr>\n",
       "      <th>3</th>\n",
       "      <td>45188</td>\n",
       "      <td>Zapopan</td>\n",
       "      <td>Jardines de Tabachines,Lomas Del Vergel,Tabach...</td>\n",
       "    </tr>\n",
       "    <tr>\n",
       "      <th>4</th>\n",
       "      <td>45660</td>\n",
       "      <td>Tlajomulco de Zúñiga</td>\n",
       "      <td>San Miguel Cuyutlan,San Diego,Lomas de San Die...</td>\n",
       "    </tr>\n",
       "  </tbody>\n",
       "</table>\n",
       "</div>"
      ],
      "text/plain": [
       "   Código Postal             Municipio  \\\n",
       "0          45169               Zapopan   \n",
       "1          45116               Zapopan   \n",
       "2          45130               Zapopan   \n",
       "3          45188               Zapopan   \n",
       "4          45660  Tlajomulco de Zúñiga   \n",
       "\n",
       "                                        Asentamiento  \n",
       "0    Lindavista,Villa Coral,Villa Magna,Villa Palmas  \n",
       "1  Puerta Aqua,Puerta de Hierro,Royal Country,Pue...  \n",
       "2  Altagracia,Arcos de Zapopan 1a. Sección,Arcos ...  \n",
       "3  Jardines de Tabachines,Lomas Del Vergel,Tabach...  \n",
       "4  San Miguel Cuyutlan,San Diego,Lomas de San Die...  "
      ]
     },
     "execution_count": 5,
     "metadata": {},
     "output_type": "execute_result"
    }
   ],
   "source": [
    "#Combine neighbourhood with the same Post Code\n",
    "df_group = df_data_0[['Código Postal','Asentamiento','Municipio']]\n",
    "df_group = df_group.groupby(['Código Postal','Municipio'])['Asentamiento'].apply(list)\n",
    "df_group = df_group.sample(frac=1).reset_index()\n",
    "df_group['Asentamiento']=df_group['Asentamiento'].str.join(',')\n",
    "df_group.head()"
   ]
  },
  {
   "cell_type": "code",
   "execution_count": null,
   "metadata": {},
   "outputs": [],
   "source": []
  }
 ],
 "metadata": {
  "kernelspec": {
   "display_name": "Python 3.6",
   "language": "python",
   "name": "python3"
  },
  "language_info": {
   "codemirror_mode": {
    "name": "ipython",
    "version": 3
   },
   "file_extension": ".py",
   "mimetype": "text/x-python",
   "name": "python",
   "nbconvert_exporter": "python",
   "pygments_lexer": "ipython3",
   "version": "3.6.9"
  }
 },
 "nbformat": 4,
 "nbformat_minor": 1
}
